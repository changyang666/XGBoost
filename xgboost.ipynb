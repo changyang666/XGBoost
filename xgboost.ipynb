{
 "cells": [
  {
   "cell_type": "markdown",
   "metadata": {},
   "source": [
    "#### Connect to Google Drive if required"
   ]
  },
  {
   "cell_type": "code",
   "execution_count": null,
   "metadata": {},
   "outputs": [],
   "source": [
    "from google.colab import drive\n",
    "drive.mount(\"content/drive\")\n",
    "\n",
    "cd \"\" # add in path when required to connect google drive"
   ]
  },
  {
   "cell_type": "code",
   "execution_count": null,
   "metadata": {},
   "outputs": [],
   "source": [
    "# install required package if using colab to run\n",
    "!pip install xgboost"
   ]
  },
  {
   "cell_type": "code",
   "execution_count": null,
   "metadata": {},
   "outputs": [],
   "source": []
  },
  {
   "cell_type": "markdown",
   "metadata": {},
   "source": [
    "#### Import Required Library"
   ]
  },
  {
   "cell_type": "code",
   "execution_count": 50,
   "metadata": {},
   "outputs": [],
   "source": [
    "import xgboost as xgb\n",
    "from xgboost import XGBClassifier\n",
    "import pandas as pd\n",
    "import numpy as np\n",
    "import matplotlib.pyplot as plt\n",
    "import random"
   ]
  },
  {
   "cell_type": "markdown",
   "metadata": {},
   "source": [
    "#### Dataset Loading & Train, Test Split"
   ]
  },
  {
   "cell_type": "code",
   "execution_count": 51,
   "metadata": {},
   "outputs": [],
   "source": [
    "# Dataset loading\n",
    "df = pd.read_csv(\"data_preprocessed.csv\")"
   ]
  },
  {
   "cell_type": "code",
   "execution_count": 52,
   "metadata": {},
   "outputs": [],
   "source": [
    "# Dataset Split \n",
    "from sklearn.model_selection import train_test_split\n",
    "\n",
    "y = df[df.columns[-1]]\n",
    "X = df.drop(df.columns[-1], axis=1)\n",
    "\n",
    "X_train, X_test, y_train, y_test = train_test_split(X, y, test_size=0.2, stratify=y)"
   ]
  },
  {
   "cell_type": "markdown",
   "metadata": {},
   "source": [
    "#### Model Building "
   ]
  },
  {
   "cell_type": "code",
   "execution_count": 75,
   "metadata": {},
   "outputs": [
    {
     "data": {
      "text/html": [
       "<style>#sk-container-id-7 {color: black;}#sk-container-id-7 pre{padding: 0;}#sk-container-id-7 div.sk-toggleable {background-color: white;}#sk-container-id-7 label.sk-toggleable__label {cursor: pointer;display: block;width: 100%;margin-bottom: 0;padding: 0.3em;box-sizing: border-box;text-align: center;}#sk-container-id-7 label.sk-toggleable__label-arrow:before {content: \"▸\";float: left;margin-right: 0.25em;color: #696969;}#sk-container-id-7 label.sk-toggleable__label-arrow:hover:before {color: black;}#sk-container-id-7 div.sk-estimator:hover label.sk-toggleable__label-arrow:before {color: black;}#sk-container-id-7 div.sk-toggleable__content {max-height: 0;max-width: 0;overflow: hidden;text-align: left;background-color: #f0f8ff;}#sk-container-id-7 div.sk-toggleable__content pre {margin: 0.2em;color: black;border-radius: 0.25em;background-color: #f0f8ff;}#sk-container-id-7 input.sk-toggleable__control:checked~div.sk-toggleable__content {max-height: 200px;max-width: 100%;overflow: auto;}#sk-container-id-7 input.sk-toggleable__control:checked~label.sk-toggleable__label-arrow:before {content: \"▾\";}#sk-container-id-7 div.sk-estimator input.sk-toggleable__control:checked~label.sk-toggleable__label {background-color: #d4ebff;}#sk-container-id-7 div.sk-label input.sk-toggleable__control:checked~label.sk-toggleable__label {background-color: #d4ebff;}#sk-container-id-7 input.sk-hidden--visually {border: 0;clip: rect(1px 1px 1px 1px);clip: rect(1px, 1px, 1px, 1px);height: 1px;margin: -1px;overflow: hidden;padding: 0;position: absolute;width: 1px;}#sk-container-id-7 div.sk-estimator {font-family: monospace;background-color: #f0f8ff;border: 1px dotted black;border-radius: 0.25em;box-sizing: border-box;margin-bottom: 0.5em;}#sk-container-id-7 div.sk-estimator:hover {background-color: #d4ebff;}#sk-container-id-7 div.sk-parallel-item::after {content: \"\";width: 100%;border-bottom: 1px solid gray;flex-grow: 1;}#sk-container-id-7 div.sk-label:hover label.sk-toggleable__label {background-color: #d4ebff;}#sk-container-id-7 div.sk-serial::before {content: \"\";position: absolute;border-left: 1px solid gray;box-sizing: border-box;top: 0;bottom: 0;left: 50%;z-index: 0;}#sk-container-id-7 div.sk-serial {display: flex;flex-direction: column;align-items: center;background-color: white;padding-right: 0.2em;padding-left: 0.2em;position: relative;}#sk-container-id-7 div.sk-item {position: relative;z-index: 1;}#sk-container-id-7 div.sk-parallel {display: flex;align-items: stretch;justify-content: center;background-color: white;position: relative;}#sk-container-id-7 div.sk-item::before, #sk-container-id-7 div.sk-parallel-item::before {content: \"\";position: absolute;border-left: 1px solid gray;box-sizing: border-box;top: 0;bottom: 0;left: 50%;z-index: -1;}#sk-container-id-7 div.sk-parallel-item {display: flex;flex-direction: column;z-index: 1;position: relative;background-color: white;}#sk-container-id-7 div.sk-parallel-item:first-child::after {align-self: flex-end;width: 50%;}#sk-container-id-7 div.sk-parallel-item:last-child::after {align-self: flex-start;width: 50%;}#sk-container-id-7 div.sk-parallel-item:only-child::after {width: 0;}#sk-container-id-7 div.sk-dashed-wrapped {border: 1px dashed gray;margin: 0 0.4em 0.5em 0.4em;box-sizing: border-box;padding-bottom: 0.4em;background-color: white;}#sk-container-id-7 div.sk-label label {font-family: monospace;font-weight: bold;display: inline-block;line-height: 1.2em;}#sk-container-id-7 div.sk-label-container {text-align: center;}#sk-container-id-7 div.sk-container {/* jupyter's `normalize.less` sets `[hidden] { display: none; }` but bootstrap.min.css set `[hidden] { display: none !important; }` so we also need the `!important` here to be able to override the default hidden behavior on the sphinx rendered scikit-learn.org. See: https://github.com/scikit-learn/scikit-learn/issues/21755 */display: inline-block !important;position: relative;}#sk-container-id-7 div.sk-text-repr-fallback {display: none;}</style><div id=\"sk-container-id-7\" class=\"sk-top-container\"><div class=\"sk-text-repr-fallback\"><pre>XGBClassifier(base_score=None, booster=None, callbacks=None,\n",
       "              colsample_bylevel=None, colsample_bynode=None,\n",
       "              colsample_bytree=None, device=None, early_stopping_rounds=None,\n",
       "              enable_categorical=False, eval_metric=None, feature_types=None,\n",
       "              gamma=None, grow_policy=None, importance_type=None,\n",
       "              interaction_constraints=None, learning_rate=None, max_bin=None,\n",
       "              max_cat_threshold=None, max_cat_to_onehot=None,\n",
       "              max_delta_step=None, max_depth=3, max_leaves=None,\n",
       "              min_child_weight=None, missing=nan, monotone_constraints=None,\n",
       "              multi_strategy=None, n_estimators=50, n_jobs=None,\n",
       "              num_parallel_tree=None, random_state=None, ...)</pre><b>In a Jupyter environment, please rerun this cell to show the HTML representation or trust the notebook. <br />On GitHub, the HTML representation is unable to render, please try loading this page with nbviewer.org.</b></div><div class=\"sk-container\" hidden><div class=\"sk-item\"><div class=\"sk-estimator sk-toggleable\"><input class=\"sk-toggleable__control sk-hidden--visually\" id=\"sk-estimator-id-7\" type=\"checkbox\" checked><label for=\"sk-estimator-id-7\" class=\"sk-toggleable__label sk-toggleable__label-arrow\">XGBClassifier</label><div class=\"sk-toggleable__content\"><pre>XGBClassifier(base_score=None, booster=None, callbacks=None,\n",
       "              colsample_bylevel=None, colsample_bynode=None,\n",
       "              colsample_bytree=None, device=None, early_stopping_rounds=None,\n",
       "              enable_categorical=False, eval_metric=None, feature_types=None,\n",
       "              gamma=None, grow_policy=None, importance_type=None,\n",
       "              interaction_constraints=None, learning_rate=None, max_bin=None,\n",
       "              max_cat_threshold=None, max_cat_to_onehot=None,\n",
       "              max_delta_step=None, max_depth=3, max_leaves=None,\n",
       "              min_child_weight=None, missing=nan, monotone_constraints=None,\n",
       "              multi_strategy=None, n_estimators=50, n_jobs=None,\n",
       "              num_parallel_tree=None, random_state=None, ...)</pre></div></div></div></div></div>"
      ],
      "text/plain": [
       "XGBClassifier(base_score=None, booster=None, callbacks=None,\n",
       "              colsample_bylevel=None, colsample_bynode=None,\n",
       "              colsample_bytree=None, device=None, early_stopping_rounds=None,\n",
       "              enable_categorical=False, eval_metric=None, feature_types=None,\n",
       "              gamma=None, grow_policy=None, importance_type=None,\n",
       "              interaction_constraints=None, learning_rate=None, max_bin=None,\n",
       "              max_cat_threshold=None, max_cat_to_onehot=None,\n",
       "              max_delta_step=None, max_depth=3, max_leaves=None,\n",
       "              min_child_weight=None, missing=nan, monotone_constraints=None,\n",
       "              multi_strategy=None, n_estimators=50, n_jobs=None,\n",
       "              num_parallel_tree=None, random_state=None, ...)"
      ]
     },
     "execution_count": 75,
     "metadata": {},
     "output_type": "execute_result"
    }
   ],
   "source": [
    "# model define\n",
    "model = XGBClassifier(objective='binary:logistic', n_estimators=50, max_depth=3)\n",
    "model.fit(X_train, y_train)"
   ]
  },
  {
   "cell_type": "markdown",
   "metadata": {},
   "source": [
    "#### Evaluation"
   ]
  },
  {
   "cell_type": "code",
   "execution_count": 11,
   "metadata": {},
   "outputs": [],
   "source": [
    "y_pred=model.predict(X_test)"
   ]
  },
  {
   "cell_type": "code",
   "execution_count": 12,
   "metadata": {},
   "outputs": [
    {
     "name": "stdout",
     "output_type": "stream",
     "text": [
      "0.9561688311688312\n"
     ]
    }
   ],
   "source": [
    "from sklearn.metrics import accuracy_score\n",
    "\n",
    "acc = accuracy_score(y_test, y_pred)\n",
    "print(acc)"
   ]
  },
  {
   "cell_type": "code",
   "execution_count": 13,
   "metadata": {},
   "outputs": [
    {
     "name": "stdout",
     "output_type": "stream",
     "text": [
      "0.9753787878787878\n"
     ]
    }
   ],
   "source": [
    "y_pred = model.predict(X_train)\n",
    "acc = accuracy_score(y_train, y_pred)\n",
    "print(acc)"
   ]
  },
  {
   "cell_type": "code",
   "execution_count": 53,
   "metadata": {},
   "outputs": [],
   "source": [
    "from sklearn.metrics import accuracy_score, recall_score, precision_score, f1_score, roc_auc_score\n",
    "# from scikitplot.metrics import plot_roc, plot_confusion_matrix, plot_precision_recall"
   ]
  },
  {
   "cell_type": "code",
   "execution_count": 68,
   "metadata": {},
   "outputs": [],
   "source": [
    "def eval_performance(y_pred, y_true, y_proba, plot=False):\n",
    "\n",
    "  # confusion matrix\n",
    "  if plot:\n",
    "    plot_confusion_matrix(y_true, y_pred)\n",
    "\n",
    "    # y_probas == (prob for class 0, prob for class 1)\n",
    "    # y_proba == prob for class 1\n",
    "    # hence, the arrange of y_probas == (1-y_proba, y_proba)\n",
    "    y_probas = [[y, x] for x, y in zip(np.array(y_proba), 1-np.array(y_proba))]\n",
    "\n",
    "    plot_roc(torch.tensor(y_true), torch.tensor(y_probas))\n",
    "\n",
    "    plot_precision_recall(y_true, y_probas)\n",
    "    plt.xlabel('Precision')\n",
    "    plt.ylabel('Recall')\n",
    "    plt.title('Precision-Recall Curve')\n",
    "\n",
    "    plt.show()\n",
    "\n",
    "  acc = accuracy_score(y_true, y_pred)\n",
    "  recall = recall_score(y_true, y_pred)\n",
    "  precision = precision_score(y_true, y_pred)\n",
    "  f1 = f1_score(y_true, y_pred)\n",
    "  roc_score = roc_auc_score(y_true, y_proba)\n",
    "\n",
    "\n",
    "  print(f\"recall score: {recall:.4f}\")\n",
    "  print(f\"Precision score: {precision:.4f}\")\n",
    "  print(f\"F1 score: {f1:.4f}\")\n",
    "  print(f\"ROC_AUC score: {roc_score:.4f}\")\n",
    "  print(f\"Accuracy Score: {acc:.4f}\\n\")\n",
    "\n",
    "  return acc, recall, precision, f1, roc_score"
   ]
  },
  {
   "cell_type": "markdown",
   "metadata": {},
   "source": [
    "#### 5 fold cross validation"
   ]
  },
  {
   "cell_type": "code",
   "execution_count": 76,
   "metadata": {},
   "outputs": [
    {
     "name": "stdout",
     "output_type": "stream",
     "text": [
      "recall score: 0.9818\n",
      "Precision score: 0.9814\n",
      "F1 score: 0.9816\n",
      "ROC_AUC score: 0.9991\n",
      "Accuracy Score: 0.9853\n",
      "\n",
      "recall score: 0.9253\n",
      "Precision score: 0.9484\n",
      "F1 score: 0.9367\n",
      "ROC_AUC score: 0.9912\n",
      "Accuracy Score: 0.9513\n",
      "\n",
      "recall score: 0.9796\n",
      "Precision score: 0.9796\n",
      "F1 score: 0.9796\n",
      "ROC_AUC score: 0.9988\n",
      "Accuracy Score: 0.9838\n",
      "\n",
      "recall score: 0.9502\n",
      "Precision score: 0.9453\n",
      "F1 score: 0.9477\n",
      "ROC_AUC score: 0.9923\n",
      "Accuracy Score: 0.9588\n",
      "\n",
      "recall score: 0.9788\n",
      "Precision score: 0.9779\n",
      "F1 score: 0.9784\n",
      "ROC_AUC score: 0.9988\n",
      "Accuracy Score: 0.9828\n",
      "\n",
      "recall score: 0.9241\n",
      "Precision score: 0.9470\n",
      "F1 score: 0.9354\n",
      "ROC_AUC score: 0.9909\n",
      "Accuracy Score: 0.9499\n",
      "\n",
      "recall score: 0.9781\n",
      "Precision score: 0.9781\n",
      "F1 score: 0.9781\n",
      "ROC_AUC score: 0.9988\n",
      "Accuracy Score: 0.9828\n",
      "\n",
      "recall score: 0.9570\n",
      "Precision score: 0.9414\n",
      "F1 score: 0.9491\n",
      "ROC_AUC score: 0.9913\n",
      "Accuracy Score: 0.9581\n",
      "\n",
      "recall score: 0.9765\n",
      "Precision score: 0.9774\n",
      "F1 score: 0.9769\n",
      "ROC_AUC score: 0.9985\n",
      "Accuracy Score: 0.9817\n",
      "\n",
      "recall score: 0.9545\n",
      "Precision score: 0.9497\n",
      "F1 score: 0.9521\n",
      "ROC_AUC score: 0.9937\n",
      "Accuracy Score: 0.9614\n",
      "\n",
      "\n",
      "Avg training accuracy: \t\t0.9833\n",
      "Avg training recall: \t\t0.9790\n",
      "Avg training precision: \t0.9789\n",
      "Avg training f1: \t\t0.9789\n",
      "Avg training ROC score: \t0.9988\n",
      "\n",
      "Avg validation accuracy: \t0.9559\n",
      "Avg validation recall: \t\t0.9422\n",
      "Avg validation precision: \t0.9463\n",
      "Avg validation f1: \t\t0.9442\n",
      "Avg validation ROC score: \t0.9919\n"
     ]
    }
   ],
   "source": [
    "from sklearn.model_selection import KFold\n",
    "\n",
    "kfold = KFold(n_splits=5, shuffle=True, random_state=42)\n",
    "\n",
    "all_acc = []\n",
    "all_recall = []\n",
    "all_precision = []\n",
    "all_f1 = []\n",
    "all_roc_score = []\n",
    "\n",
    "all_train_acc = []\n",
    "all_train_recall = []\n",
    "all_train_precision = []\n",
    "all_train_f1 = []\n",
    "all_train_roc_score = []\n",
    "\n",
    "# Iterate through each fold in KFold\n",
    "for train_index, val_index in kfold.split(X_train):\n",
    "      \n",
    "      # Split data based on the current fold indices\n",
    "      X_train_val, X_val = X.iloc[train_index], X.iloc[val_index]\n",
    "      y_train_val, y_val = y.iloc[train_index], y.iloc[val_index]\n",
    "    \n",
    "    \n",
    "      # train the model using train set\n",
    "      model.fit(X_train_val, y_train_val)\n",
    "      \n",
    "      # Train set Eval\n",
    "      y_probas = model.predict_proba(X_train_val)\n",
    "      \n",
    "      y_proba = y_probas[:, 1]\n",
    "\n",
    "      y_pred = model.predict(X_train_val)\n",
    "      \n",
    "      train_acc, train_recall, train_precision, train_f1, train_roc_score = eval_performance(y_pred, y_train_val, y_proba)\n",
    "      \n",
    "      all_train_acc.append(train_acc)\n",
    "      all_train_recall.append(train_recall)\n",
    "      all_train_precision.append(train_precision)\n",
    "      all_train_f1.append(train_f1)\n",
    "      all_train_roc_score.append(train_roc_score)\n",
    "            \n",
    "      # Val set eval\n",
    "      y_probas = model.predict_proba(X_val)\n",
    "      \n",
    "      y_proba = y_probas[:, 1]\n",
    "\n",
    "      y_pred = model.predict(X_val)\n",
    "      \n",
    "      acc, recall, precision, f1, roc_score = eval_performance(y_pred, y_val, y_proba)\n",
    "      \n",
    "      all_acc.append(acc)\n",
    "      all_recall.append(recall)\n",
    "      all_precision.append(precision)\n",
    "      all_f1.append(f1)\n",
    "      all_roc_score.append(roc_score)\n",
    "\n",
    "# Train set avg metrics\n",
    "print(f\"\\nAvg training accuracy: \\t\\t{sum(all_train_acc)/len(all_train_acc):.4f}\")\n",
    "print(f\"Avg training recall: \\t\\t{sum(all_train_recall)/len(all_train_recall):.4f}\")\n",
    "print(f\"Avg training precision: \\t{sum(all_train_precision)/len(all_train_precision):.4f}\")\n",
    "print(f\"Avg training f1: \\t\\t{sum(all_train_f1)/len(all_train_f1):.4f}\")\n",
    "print(f\"Avg training ROC score: \\t{sum(all_train_roc_score)/len(all_train_roc_score):.4f}\")\n",
    "\n",
    "# Val set avg metrics\n",
    "print(f\"\\nAvg validation accuracy: \\t{sum(all_acc)/len(all_acc):.4f}\")\n",
    "print(f\"Avg validation recall: \\t\\t{sum(all_recall)/len(all_recall):.4f}\")\n",
    "print(f\"Avg validation precision: \\t{sum(all_precision)/len(all_precision):.4f}\")\n",
    "print(f\"Avg validation f1: \\t\\t{sum(all_f1)/len(all_f1):.4f}\")\n",
    "print(f\"Avg validation ROC score: \\t{sum(all_roc_score)/len(all_roc_score):.4f}\")"
   ]
  },
  {
   "cell_type": "code",
   "execution_count": null,
   "metadata": {},
   "outputs": [],
   "source": []
  }
 ],
 "metadata": {
  "kernelspec": {
   "display_name": "base",
   "language": "python",
   "name": "python3"
  },
  "language_info": {
   "codemirror_mode": {
    "name": "ipython",
    "version": 3
   },
   "file_extension": ".py",
   "mimetype": "text/x-python",
   "name": "python",
   "nbconvert_exporter": "python",
   "pygments_lexer": "ipython3",
   "version": "3.12.3"
  }
 },
 "nbformat": 4,
 "nbformat_minor": 2
}
